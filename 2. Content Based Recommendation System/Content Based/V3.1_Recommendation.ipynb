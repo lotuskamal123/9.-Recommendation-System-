{
 "cells": [
  {
   "cell_type": "code",
   "execution_count": 1,
   "id": "f57f8990",
   "metadata": {},
   "outputs": [],
   "source": [
    "# importing libraries\n",
    "import pandas as pd\n",
    "import numpy as np"
   ]
  },
  {
   "cell_type": "code",
   "execution_count": 2,
   "id": "7580dd70",
   "metadata": {},
   "outputs": [],
   "source": [
    "# reading ratings file:\n",
    "r_cols = ['user_id', 'movie_id', 'rating', 'unix_timestamp']\n",
    "ratings = pd.read_csv('ml-100k/u.data', sep='\\t', names=r_cols,encoding='latin-1')"
   ]
  },
  {
   "cell_type": "code",
   "execution_count": 3,
   "id": "39bb9de5",
   "metadata": {},
   "outputs": [
    {
     "data": {
      "text/html": [
       "<div>\n",
       "<style scoped>\n",
       "    .dataframe tbody tr th:only-of-type {\n",
       "        vertical-align: middle;\n",
       "    }\n",
       "\n",
       "    .dataframe tbody tr th {\n",
       "        vertical-align: top;\n",
       "    }\n",
       "\n",
       "    .dataframe thead th {\n",
       "        text-align: right;\n",
       "    }\n",
       "</style>\n",
       "<table border=\"1\" class=\"dataframe\">\n",
       "  <thead>\n",
       "    <tr style=\"text-align: right;\">\n",
       "      <th></th>\n",
       "      <th>user_id</th>\n",
       "      <th>movie_id</th>\n",
       "      <th>rating</th>\n",
       "      <th>unix_timestamp</th>\n",
       "    </tr>\n",
       "  </thead>\n",
       "  <tbody>\n",
       "    <tr>\n",
       "      <th>0</th>\n",
       "      <td>196</td>\n",
       "      <td>242</td>\n",
       "      <td>3</td>\n",
       "      <td>881250949</td>\n",
       "    </tr>\n",
       "    <tr>\n",
       "      <th>1</th>\n",
       "      <td>186</td>\n",
       "      <td>302</td>\n",
       "      <td>3</td>\n",
       "      <td>891717742</td>\n",
       "    </tr>\n",
       "    <tr>\n",
       "      <th>2</th>\n",
       "      <td>22</td>\n",
       "      <td>377</td>\n",
       "      <td>1</td>\n",
       "      <td>878887116</td>\n",
       "    </tr>\n",
       "    <tr>\n",
       "      <th>3</th>\n",
       "      <td>244</td>\n",
       "      <td>51</td>\n",
       "      <td>2</td>\n",
       "      <td>880606923</td>\n",
       "    </tr>\n",
       "    <tr>\n",
       "      <th>4</th>\n",
       "      <td>166</td>\n",
       "      <td>346</td>\n",
       "      <td>1</td>\n",
       "      <td>886397596</td>\n",
       "    </tr>\n",
       "    <tr>\n",
       "      <th>...</th>\n",
       "      <td>...</td>\n",
       "      <td>...</td>\n",
       "      <td>...</td>\n",
       "      <td>...</td>\n",
       "    </tr>\n",
       "    <tr>\n",
       "      <th>99995</th>\n",
       "      <td>880</td>\n",
       "      <td>476</td>\n",
       "      <td>3</td>\n",
       "      <td>880175444</td>\n",
       "    </tr>\n",
       "    <tr>\n",
       "      <th>99996</th>\n",
       "      <td>716</td>\n",
       "      <td>204</td>\n",
       "      <td>5</td>\n",
       "      <td>879795543</td>\n",
       "    </tr>\n",
       "    <tr>\n",
       "      <th>99997</th>\n",
       "      <td>276</td>\n",
       "      <td>1090</td>\n",
       "      <td>1</td>\n",
       "      <td>874795795</td>\n",
       "    </tr>\n",
       "    <tr>\n",
       "      <th>99998</th>\n",
       "      <td>13</td>\n",
       "      <td>225</td>\n",
       "      <td>2</td>\n",
       "      <td>882399156</td>\n",
       "    </tr>\n",
       "    <tr>\n",
       "      <th>99999</th>\n",
       "      <td>12</td>\n",
       "      <td>203</td>\n",
       "      <td>3</td>\n",
       "      <td>879959583</td>\n",
       "    </tr>\n",
       "  </tbody>\n",
       "</table>\n",
       "<p>100000 rows × 4 columns</p>\n",
       "</div>"
      ],
      "text/plain": [
       "       user_id  movie_id  rating  unix_timestamp\n",
       "0          196       242       3       881250949\n",
       "1          186       302       3       891717742\n",
       "2           22       377       1       878887116\n",
       "3          244        51       2       880606923\n",
       "4          166       346       1       886397596\n",
       "...        ...       ...     ...             ...\n",
       "99995      880       476       3       880175444\n",
       "99996      716       204       5       879795543\n",
       "99997      276      1090       1       874795795\n",
       "99998       13       225       2       882399156\n",
       "99999       12       203       3       879959583\n",
       "\n",
       "[100000 rows x 4 columns]"
      ]
     },
     "execution_count": 3,
     "metadata": {},
     "output_type": "execute_result"
    }
   ],
   "source": [
    "ratings"
   ]
  },
  {
   "cell_type": "code",
   "execution_count": 5,
   "id": "06f9cc49",
   "metadata": {},
   "outputs": [
    {
     "data": {
      "text/plain": [
       "Index(['user_id', 'movie_id', 'rating', 'unix_timestamp'], dtype='object')"
      ]
     },
     "execution_count": 5,
     "metadata": {},
     "output_type": "execute_result"
    }
   ],
   "source": [
    "ratings.columns"
   ]
  },
  {
   "cell_type": "code",
   "execution_count": 6,
   "id": "212c2e03",
   "metadata": {},
   "outputs": [],
   "source": [
    "n_users = ratings.user_id.unique().shape[0]\n",
    "n_items = ratings.movie_id.unique().shape[0]"
   ]
  },
  {
   "cell_type": "code",
   "execution_count": 7,
   "id": "b64001fa",
   "metadata": {},
   "outputs": [
    {
     "name": "stdout",
     "output_type": "stream",
     "text": [
      "The number of user: 943\n",
      "The number of n_items: 1682\n"
     ]
    }
   ],
   "source": [
    "print(\"The number of user:\",n_users)\n",
    "print(\"The number of n_items:\",n_items)"
   ]
  },
  {
   "cell_type": "code",
   "execution_count": 8,
   "id": "69d680cd",
   "metadata": {},
   "outputs": [],
   "source": [
    "# Create pivot table for user and movie basedon ratings"
   ]
  },
  {
   "cell_type": "code",
   "execution_count": 9,
   "id": "52d60824",
   "metadata": {},
   "outputs": [],
   "source": [
    "datama=ratings.pivot_table(index='user_id',columns='movie_id',values='rating')"
   ]
  },
  {
   "cell_type": "code",
   "execution_count": 10,
   "id": "c3558ebe",
   "metadata": {},
   "outputs": [],
   "source": [
    "#Replace with nan with 0\n",
    "data_matrix=datama.replace(np.nan,0)"
   ]
  },
  {
   "cell_type": "code",
   "execution_count": 11,
   "id": "a5b8d61e",
   "metadata": {},
   "outputs": [
    {
     "data": {
      "text/html": [
       "<div>\n",
       "<style scoped>\n",
       "    .dataframe tbody tr th:only-of-type {\n",
       "        vertical-align: middle;\n",
       "    }\n",
       "\n",
       "    .dataframe tbody tr th {\n",
       "        vertical-align: top;\n",
       "    }\n",
       "\n",
       "    .dataframe thead th {\n",
       "        text-align: right;\n",
       "    }\n",
       "</style>\n",
       "<table border=\"1\" class=\"dataframe\">\n",
       "  <thead>\n",
       "    <tr style=\"text-align: right;\">\n",
       "      <th>movie_id</th>\n",
       "      <th>1</th>\n",
       "      <th>2</th>\n",
       "      <th>3</th>\n",
       "      <th>4</th>\n",
       "      <th>5</th>\n",
       "      <th>6</th>\n",
       "      <th>7</th>\n",
       "      <th>8</th>\n",
       "      <th>9</th>\n",
       "      <th>10</th>\n",
       "      <th>...</th>\n",
       "      <th>1673</th>\n",
       "      <th>1674</th>\n",
       "      <th>1675</th>\n",
       "      <th>1676</th>\n",
       "      <th>1677</th>\n",
       "      <th>1678</th>\n",
       "      <th>1679</th>\n",
       "      <th>1680</th>\n",
       "      <th>1681</th>\n",
       "      <th>1682</th>\n",
       "    </tr>\n",
       "    <tr>\n",
       "      <th>user_id</th>\n",
       "      <th></th>\n",
       "      <th></th>\n",
       "      <th></th>\n",
       "      <th></th>\n",
       "      <th></th>\n",
       "      <th></th>\n",
       "      <th></th>\n",
       "      <th></th>\n",
       "      <th></th>\n",
       "      <th></th>\n",
       "      <th></th>\n",
       "      <th></th>\n",
       "      <th></th>\n",
       "      <th></th>\n",
       "      <th></th>\n",
       "      <th></th>\n",
       "      <th></th>\n",
       "      <th></th>\n",
       "      <th></th>\n",
       "      <th></th>\n",
       "      <th></th>\n",
       "    </tr>\n",
       "  </thead>\n",
       "  <tbody>\n",
       "    <tr>\n",
       "      <th>1</th>\n",
       "      <td>5.0</td>\n",
       "      <td>3.0</td>\n",
       "      <td>4.0</td>\n",
       "      <td>3.0</td>\n",
       "      <td>3.0</td>\n",
       "      <td>5.0</td>\n",
       "      <td>4.0</td>\n",
       "      <td>1.0</td>\n",
       "      <td>5.0</td>\n",
       "      <td>3.0</td>\n",
       "      <td>...</td>\n",
       "      <td>0.0</td>\n",
       "      <td>0.0</td>\n",
       "      <td>0.0</td>\n",
       "      <td>0.0</td>\n",
       "      <td>0.0</td>\n",
       "      <td>0.0</td>\n",
       "      <td>0.0</td>\n",
       "      <td>0.0</td>\n",
       "      <td>0.0</td>\n",
       "      <td>0.0</td>\n",
       "    </tr>\n",
       "    <tr>\n",
       "      <th>2</th>\n",
       "      <td>4.0</td>\n",
       "      <td>0.0</td>\n",
       "      <td>0.0</td>\n",
       "      <td>0.0</td>\n",
       "      <td>0.0</td>\n",
       "      <td>0.0</td>\n",
       "      <td>0.0</td>\n",
       "      <td>0.0</td>\n",
       "      <td>0.0</td>\n",
       "      <td>2.0</td>\n",
       "      <td>...</td>\n",
       "      <td>0.0</td>\n",
       "      <td>0.0</td>\n",
       "      <td>0.0</td>\n",
       "      <td>0.0</td>\n",
       "      <td>0.0</td>\n",
       "      <td>0.0</td>\n",
       "      <td>0.0</td>\n",
       "      <td>0.0</td>\n",
       "      <td>0.0</td>\n",
       "      <td>0.0</td>\n",
       "    </tr>\n",
       "    <tr>\n",
       "      <th>3</th>\n",
       "      <td>0.0</td>\n",
       "      <td>0.0</td>\n",
       "      <td>0.0</td>\n",
       "      <td>0.0</td>\n",
       "      <td>0.0</td>\n",
       "      <td>0.0</td>\n",
       "      <td>0.0</td>\n",
       "      <td>0.0</td>\n",
       "      <td>0.0</td>\n",
       "      <td>0.0</td>\n",
       "      <td>...</td>\n",
       "      <td>0.0</td>\n",
       "      <td>0.0</td>\n",
       "      <td>0.0</td>\n",
       "      <td>0.0</td>\n",
       "      <td>0.0</td>\n",
       "      <td>0.0</td>\n",
       "      <td>0.0</td>\n",
       "      <td>0.0</td>\n",
       "      <td>0.0</td>\n",
       "      <td>0.0</td>\n",
       "    </tr>\n",
       "    <tr>\n",
       "      <th>4</th>\n",
       "      <td>0.0</td>\n",
       "      <td>0.0</td>\n",
       "      <td>0.0</td>\n",
       "      <td>0.0</td>\n",
       "      <td>0.0</td>\n",
       "      <td>0.0</td>\n",
       "      <td>0.0</td>\n",
       "      <td>0.0</td>\n",
       "      <td>0.0</td>\n",
       "      <td>0.0</td>\n",
       "      <td>...</td>\n",
       "      <td>0.0</td>\n",
       "      <td>0.0</td>\n",
       "      <td>0.0</td>\n",
       "      <td>0.0</td>\n",
       "      <td>0.0</td>\n",
       "      <td>0.0</td>\n",
       "      <td>0.0</td>\n",
       "      <td>0.0</td>\n",
       "      <td>0.0</td>\n",
       "      <td>0.0</td>\n",
       "    </tr>\n",
       "    <tr>\n",
       "      <th>5</th>\n",
       "      <td>4.0</td>\n",
       "      <td>3.0</td>\n",
       "      <td>0.0</td>\n",
       "      <td>0.0</td>\n",
       "      <td>0.0</td>\n",
       "      <td>0.0</td>\n",
       "      <td>0.0</td>\n",
       "      <td>0.0</td>\n",
       "      <td>0.0</td>\n",
       "      <td>0.0</td>\n",
       "      <td>...</td>\n",
       "      <td>0.0</td>\n",
       "      <td>0.0</td>\n",
       "      <td>0.0</td>\n",
       "      <td>0.0</td>\n",
       "      <td>0.0</td>\n",
       "      <td>0.0</td>\n",
       "      <td>0.0</td>\n",
       "      <td>0.0</td>\n",
       "      <td>0.0</td>\n",
       "      <td>0.0</td>\n",
       "    </tr>\n",
       "    <tr>\n",
       "      <th>...</th>\n",
       "      <td>...</td>\n",
       "      <td>...</td>\n",
       "      <td>...</td>\n",
       "      <td>...</td>\n",
       "      <td>...</td>\n",
       "      <td>...</td>\n",
       "      <td>...</td>\n",
       "      <td>...</td>\n",
       "      <td>...</td>\n",
       "      <td>...</td>\n",
       "      <td>...</td>\n",
       "      <td>...</td>\n",
       "      <td>...</td>\n",
       "      <td>...</td>\n",
       "      <td>...</td>\n",
       "      <td>...</td>\n",
       "      <td>...</td>\n",
       "      <td>...</td>\n",
       "      <td>...</td>\n",
       "      <td>...</td>\n",
       "      <td>...</td>\n",
       "    </tr>\n",
       "    <tr>\n",
       "      <th>939</th>\n",
       "      <td>0.0</td>\n",
       "      <td>0.0</td>\n",
       "      <td>0.0</td>\n",
       "      <td>0.0</td>\n",
       "      <td>0.0</td>\n",
       "      <td>0.0</td>\n",
       "      <td>0.0</td>\n",
       "      <td>0.0</td>\n",
       "      <td>5.0</td>\n",
       "      <td>0.0</td>\n",
       "      <td>...</td>\n",
       "      <td>0.0</td>\n",
       "      <td>0.0</td>\n",
       "      <td>0.0</td>\n",
       "      <td>0.0</td>\n",
       "      <td>0.0</td>\n",
       "      <td>0.0</td>\n",
       "      <td>0.0</td>\n",
       "      <td>0.0</td>\n",
       "      <td>0.0</td>\n",
       "      <td>0.0</td>\n",
       "    </tr>\n",
       "    <tr>\n",
       "      <th>940</th>\n",
       "      <td>0.0</td>\n",
       "      <td>0.0</td>\n",
       "      <td>0.0</td>\n",
       "      <td>2.0</td>\n",
       "      <td>0.0</td>\n",
       "      <td>0.0</td>\n",
       "      <td>4.0</td>\n",
       "      <td>5.0</td>\n",
       "      <td>3.0</td>\n",
       "      <td>0.0</td>\n",
       "      <td>...</td>\n",
       "      <td>0.0</td>\n",
       "      <td>0.0</td>\n",
       "      <td>0.0</td>\n",
       "      <td>0.0</td>\n",
       "      <td>0.0</td>\n",
       "      <td>0.0</td>\n",
       "      <td>0.0</td>\n",
       "      <td>0.0</td>\n",
       "      <td>0.0</td>\n",
       "      <td>0.0</td>\n",
       "    </tr>\n",
       "    <tr>\n",
       "      <th>941</th>\n",
       "      <td>5.0</td>\n",
       "      <td>0.0</td>\n",
       "      <td>0.0</td>\n",
       "      <td>0.0</td>\n",
       "      <td>0.0</td>\n",
       "      <td>0.0</td>\n",
       "      <td>4.0</td>\n",
       "      <td>0.0</td>\n",
       "      <td>0.0</td>\n",
       "      <td>0.0</td>\n",
       "      <td>...</td>\n",
       "      <td>0.0</td>\n",
       "      <td>0.0</td>\n",
       "      <td>0.0</td>\n",
       "      <td>0.0</td>\n",
       "      <td>0.0</td>\n",
       "      <td>0.0</td>\n",
       "      <td>0.0</td>\n",
       "      <td>0.0</td>\n",
       "      <td>0.0</td>\n",
       "      <td>0.0</td>\n",
       "    </tr>\n",
       "    <tr>\n",
       "      <th>942</th>\n",
       "      <td>0.0</td>\n",
       "      <td>0.0</td>\n",
       "      <td>0.0</td>\n",
       "      <td>0.0</td>\n",
       "      <td>0.0</td>\n",
       "      <td>0.0</td>\n",
       "      <td>0.0</td>\n",
       "      <td>0.0</td>\n",
       "      <td>0.0</td>\n",
       "      <td>0.0</td>\n",
       "      <td>...</td>\n",
       "      <td>0.0</td>\n",
       "      <td>0.0</td>\n",
       "      <td>0.0</td>\n",
       "      <td>0.0</td>\n",
       "      <td>0.0</td>\n",
       "      <td>0.0</td>\n",
       "      <td>0.0</td>\n",
       "      <td>0.0</td>\n",
       "      <td>0.0</td>\n",
       "      <td>0.0</td>\n",
       "    </tr>\n",
       "    <tr>\n",
       "      <th>943</th>\n",
       "      <td>0.0</td>\n",
       "      <td>5.0</td>\n",
       "      <td>0.0</td>\n",
       "      <td>0.0</td>\n",
       "      <td>0.0</td>\n",
       "      <td>0.0</td>\n",
       "      <td>0.0</td>\n",
       "      <td>0.0</td>\n",
       "      <td>3.0</td>\n",
       "      <td>0.0</td>\n",
       "      <td>...</td>\n",
       "      <td>0.0</td>\n",
       "      <td>0.0</td>\n",
       "      <td>0.0</td>\n",
       "      <td>0.0</td>\n",
       "      <td>0.0</td>\n",
       "      <td>0.0</td>\n",
       "      <td>0.0</td>\n",
       "      <td>0.0</td>\n",
       "      <td>0.0</td>\n",
       "      <td>0.0</td>\n",
       "    </tr>\n",
       "  </tbody>\n",
       "</table>\n",
       "<p>943 rows × 1682 columns</p>\n",
       "</div>"
      ],
      "text/plain": [
       "movie_id  1     2     3     4     5     6     7     8     9     10    ...  \\\n",
       "user_id                                                               ...   \n",
       "1          5.0   3.0   4.0   3.0   3.0   5.0   4.0   1.0   5.0   3.0  ...   \n",
       "2          4.0   0.0   0.0   0.0   0.0   0.0   0.0   0.0   0.0   2.0  ...   \n",
       "3          0.0   0.0   0.0   0.0   0.0   0.0   0.0   0.0   0.0   0.0  ...   \n",
       "4          0.0   0.0   0.0   0.0   0.0   0.0   0.0   0.0   0.0   0.0  ...   \n",
       "5          4.0   3.0   0.0   0.0   0.0   0.0   0.0   0.0   0.0   0.0  ...   \n",
       "...        ...   ...   ...   ...   ...   ...   ...   ...   ...   ...  ...   \n",
       "939        0.0   0.0   0.0   0.0   0.0   0.0   0.0   0.0   5.0   0.0  ...   \n",
       "940        0.0   0.0   0.0   2.0   0.0   0.0   4.0   5.0   3.0   0.0  ...   \n",
       "941        5.0   0.0   0.0   0.0   0.0   0.0   4.0   0.0   0.0   0.0  ...   \n",
       "942        0.0   0.0   0.0   0.0   0.0   0.0   0.0   0.0   0.0   0.0  ...   \n",
       "943        0.0   5.0   0.0   0.0   0.0   0.0   0.0   0.0   3.0   0.0  ...   \n",
       "\n",
       "movie_id  1673  1674  1675  1676  1677  1678  1679  1680  1681  1682  \n",
       "user_id                                                               \n",
       "1          0.0   0.0   0.0   0.0   0.0   0.0   0.0   0.0   0.0   0.0  \n",
       "2          0.0   0.0   0.0   0.0   0.0   0.0   0.0   0.0   0.0   0.0  \n",
       "3          0.0   0.0   0.0   0.0   0.0   0.0   0.0   0.0   0.0   0.0  \n",
       "4          0.0   0.0   0.0   0.0   0.0   0.0   0.0   0.0   0.0   0.0  \n",
       "5          0.0   0.0   0.0   0.0   0.0   0.0   0.0   0.0   0.0   0.0  \n",
       "...        ...   ...   ...   ...   ...   ...   ...   ...   ...   ...  \n",
       "939        0.0   0.0   0.0   0.0   0.0   0.0   0.0   0.0   0.0   0.0  \n",
       "940        0.0   0.0   0.0   0.0   0.0   0.0   0.0   0.0   0.0   0.0  \n",
       "941        0.0   0.0   0.0   0.0   0.0   0.0   0.0   0.0   0.0   0.0  \n",
       "942        0.0   0.0   0.0   0.0   0.0   0.0   0.0   0.0   0.0   0.0  \n",
       "943        0.0   0.0   0.0   0.0   0.0   0.0   0.0   0.0   0.0   0.0  \n",
       "\n",
       "[943 rows x 1682 columns]"
      ]
     },
     "execution_count": 11,
     "metadata": {},
     "output_type": "execute_result"
    }
   ],
   "source": [
    "data_matrix"
   ]
  },
  {
   "cell_type": "code",
   "execution_count": 12,
   "id": "79a575c9",
   "metadata": {},
   "outputs": [],
   "source": [
    "# Find Cosine Similatity for user and Item"
   ]
  },
  {
   "cell_type": "code",
   "execution_count": 13,
   "id": "123ccdc1",
   "metadata": {},
   "outputs": [],
   "source": [
    "from sklearn.metrics.pairwise import pairwise_distances \n",
    "user_similarity = pairwise_distances(data_matrix, metric='cosine')\n",
    "item_similarity = pairwise_distances(data_matrix.T, metric='cosine')"
   ]
  },
  {
   "cell_type": "code",
   "execution_count": 14,
   "id": "a733e5d5",
   "metadata": {},
   "outputs": [],
   "source": [
    "# Using formula for user and item we are calcuating the score value"
   ]
  },
  {
   "cell_type": "code",
   "execution_count": 15,
   "id": "93ab6f76",
   "metadata": {},
   "outputs": [],
   "source": [
    "def predict(ratings, similarity, type='user'):\n",
    "    if type == 'user':\n",
    "        mean_user_rating = ratings.mean(axis=1)\n",
    "        #We use np.newaxis so that mean_user_rating has same format as ratings\n",
    "        ratings_diff = (ratings - mean_user_rating[:, np.newaxis])\n",
    "        pred = mean_user_rating[:, np.newaxis] + similarity.dot(ratings_diff) / np.array([np.abs(similarity).sum(axis=1)]).T\n",
    "    elif type == 'item':\n",
    "        pred = ratings.dot(similarity) / np.array([np.abs(similarity).sum(axis=1)])\n",
    "    return pred"
   ]
  },
  {
   "cell_type": "code",
   "execution_count": 16,
   "id": "d26de01e",
   "metadata": {},
   "outputs": [
    {
     "ename": "ValueError",
     "evalue": "Multi-dimensional indexing (e.g. `obj[:, None]`) is no longer supported. Convert to a numpy array before indexing instead.",
     "output_type": "error",
     "traceback": [
      "\u001b[1;31m---------------------------------------------------------------------------\u001b[0m",
      "\u001b[1;31mValueError\u001b[0m                                Traceback (most recent call last)",
      "Cell \u001b[1;32mIn[16], line 2\u001b[0m\n\u001b[0;32m      1\u001b[0m \u001b[38;5;66;03m# prediction Table\u001b[39;00m\n\u001b[1;32m----> 2\u001b[0m user_prediction \u001b[38;5;241m=\u001b[39m predict(data_matrix, user_similarity, \u001b[38;5;28mtype\u001b[39m\u001b[38;5;241m=\u001b[39m\u001b[38;5;124m'\u001b[39m\u001b[38;5;124muser\u001b[39m\u001b[38;5;124m'\u001b[39m)\n\u001b[0;32m      3\u001b[0m item_prediction \u001b[38;5;241m=\u001b[39m predict(data_matrix, item_similarity, \u001b[38;5;28mtype\u001b[39m\u001b[38;5;241m=\u001b[39m\u001b[38;5;124m'\u001b[39m\u001b[38;5;124mitem\u001b[39m\u001b[38;5;124m'\u001b[39m)\n",
      "Cell \u001b[1;32mIn[15], line 5\u001b[0m, in \u001b[0;36mpredict\u001b[1;34m(ratings, similarity, type)\u001b[0m\n\u001b[0;32m      3\u001b[0m     mean_user_rating \u001b[38;5;241m=\u001b[39m ratings\u001b[38;5;241m.\u001b[39mmean(axis\u001b[38;5;241m=\u001b[39m\u001b[38;5;241m1\u001b[39m)\n\u001b[0;32m      4\u001b[0m     \u001b[38;5;66;03m#We use np.newaxis so that mean_user_rating has same format as ratings\u001b[39;00m\n\u001b[1;32m----> 5\u001b[0m     ratings_diff \u001b[38;5;241m=\u001b[39m (ratings \u001b[38;5;241m-\u001b[39m mean_user_rating[:, np\u001b[38;5;241m.\u001b[39mnewaxis])\n\u001b[0;32m      6\u001b[0m     pred \u001b[38;5;241m=\u001b[39m mean_user_rating[:, np\u001b[38;5;241m.\u001b[39mnewaxis] \u001b[38;5;241m+\u001b[39m similarity\u001b[38;5;241m.\u001b[39mdot(ratings_diff) \u001b[38;5;241m/\u001b[39m np\u001b[38;5;241m.\u001b[39marray([np\u001b[38;5;241m.\u001b[39mabs(similarity)\u001b[38;5;241m.\u001b[39msum(axis\u001b[38;5;241m=\u001b[39m\u001b[38;5;241m1\u001b[39m)])\u001b[38;5;241m.\u001b[39mT\n\u001b[0;32m      7\u001b[0m \u001b[38;5;28;01melif\u001b[39;00m \u001b[38;5;28mtype\u001b[39m \u001b[38;5;241m==\u001b[39m \u001b[38;5;124m'\u001b[39m\u001b[38;5;124mitem\u001b[39m\u001b[38;5;124m'\u001b[39m:\n",
      "File \u001b[1;32m~\\anaconda3\\Lib\\site-packages\\pandas\\core\\series.py:1153\u001b[0m, in \u001b[0;36mSeries.__getitem__\u001b[1;34m(self, key)\u001b[0m\n\u001b[0;32m   1150\u001b[0m     key \u001b[38;5;241m=\u001b[39m np\u001b[38;5;241m.\u001b[39masarray(key, dtype\u001b[38;5;241m=\u001b[39m\u001b[38;5;28mbool\u001b[39m)\n\u001b[0;32m   1151\u001b[0m     \u001b[38;5;28;01mreturn\u001b[39;00m \u001b[38;5;28mself\u001b[39m\u001b[38;5;241m.\u001b[39m_get_rows_with_mask(key)\n\u001b[1;32m-> 1153\u001b[0m \u001b[38;5;28;01mreturn\u001b[39;00m \u001b[38;5;28mself\u001b[39m\u001b[38;5;241m.\u001b[39m_get_with(key)\n",
      "File \u001b[1;32m~\\anaconda3\\Lib\\site-packages\\pandas\\core\\series.py:1163\u001b[0m, in \u001b[0;36mSeries._get_with\u001b[1;34m(self, key)\u001b[0m\n\u001b[0;32m   1158\u001b[0m     \u001b[38;5;28;01mraise\u001b[39;00m \u001b[38;5;167;01mTypeError\u001b[39;00m(\n\u001b[0;32m   1159\u001b[0m         \u001b[38;5;124m\"\u001b[39m\u001b[38;5;124mIndexing a Series with DataFrame is not \u001b[39m\u001b[38;5;124m\"\u001b[39m\n\u001b[0;32m   1160\u001b[0m         \u001b[38;5;124m\"\u001b[39m\u001b[38;5;124msupported, use the appropriate DataFrame column\u001b[39m\u001b[38;5;124m\"\u001b[39m\n\u001b[0;32m   1161\u001b[0m     )\n\u001b[0;32m   1162\u001b[0m \u001b[38;5;28;01melif\u001b[39;00m \u001b[38;5;28misinstance\u001b[39m(key, \u001b[38;5;28mtuple\u001b[39m):\n\u001b[1;32m-> 1163\u001b[0m     \u001b[38;5;28;01mreturn\u001b[39;00m \u001b[38;5;28mself\u001b[39m\u001b[38;5;241m.\u001b[39m_get_values_tuple(key)\n\u001b[0;32m   1165\u001b[0m \u001b[38;5;28;01melif\u001b[39;00m \u001b[38;5;129;01mnot\u001b[39;00m is_list_like(key):\n\u001b[0;32m   1166\u001b[0m     \u001b[38;5;66;03m# e.g. scalars that aren't recognized by lib.is_scalar, GH#32684\u001b[39;00m\n\u001b[0;32m   1167\u001b[0m     \u001b[38;5;28;01mreturn\u001b[39;00m \u001b[38;5;28mself\u001b[39m\u001b[38;5;241m.\u001b[39mloc[key]\n",
      "File \u001b[1;32m~\\anaconda3\\Lib\\site-packages\\pandas\\core\\series.py:1203\u001b[0m, in \u001b[0;36mSeries._get_values_tuple\u001b[1;34m(self, key)\u001b[0m\n\u001b[0;32m   1198\u001b[0m \u001b[38;5;28;01mif\u001b[39;00m com\u001b[38;5;241m.\u001b[39many_none(\u001b[38;5;241m*\u001b[39mkey):\n\u001b[0;32m   1199\u001b[0m     \u001b[38;5;66;03m# mpl compat if we look up e.g. ser[:, np.newaxis];\u001b[39;00m\n\u001b[0;32m   1200\u001b[0m     \u001b[38;5;66;03m#  see tests.series.timeseries.test_mpl_compat_hack\u001b[39;00m\n\u001b[0;32m   1201\u001b[0m     \u001b[38;5;66;03m# the asarray is needed to avoid returning a 2D DatetimeArray\u001b[39;00m\n\u001b[0;32m   1202\u001b[0m     result \u001b[38;5;241m=\u001b[39m np\u001b[38;5;241m.\u001b[39masarray(\u001b[38;5;28mself\u001b[39m\u001b[38;5;241m.\u001b[39m_values[key])\n\u001b[1;32m-> 1203\u001b[0m     disallow_ndim_indexing(result)\n\u001b[0;32m   1204\u001b[0m     \u001b[38;5;28;01mreturn\u001b[39;00m result\n\u001b[0;32m   1206\u001b[0m \u001b[38;5;28;01mif\u001b[39;00m \u001b[38;5;129;01mnot\u001b[39;00m \u001b[38;5;28misinstance\u001b[39m(\u001b[38;5;28mself\u001b[39m\u001b[38;5;241m.\u001b[39mindex, MultiIndex):\n",
      "File \u001b[1;32m~\\anaconda3\\Lib\\site-packages\\pandas\\core\\indexers\\utils.py:341\u001b[0m, in \u001b[0;36mdisallow_ndim_indexing\u001b[1;34m(result)\u001b[0m\n\u001b[0;32m    333\u001b[0m \u001b[38;5;250m\u001b[39m\u001b[38;5;124;03m\"\"\"\u001b[39;00m\n\u001b[0;32m    334\u001b[0m \u001b[38;5;124;03mHelper function to disallow multi-dimensional indexing on 1D Series/Index.\u001b[39;00m\n\u001b[0;32m    335\u001b[0m \n\u001b[1;32m   (...)\u001b[0m\n\u001b[0;32m    338\u001b[0m \u001b[38;5;124;03min GH#30588.\u001b[39;00m\n\u001b[0;32m    339\u001b[0m \u001b[38;5;124;03m\"\"\"\u001b[39;00m\n\u001b[0;32m    340\u001b[0m \u001b[38;5;28;01mif\u001b[39;00m np\u001b[38;5;241m.\u001b[39mndim(result) \u001b[38;5;241m>\u001b[39m \u001b[38;5;241m1\u001b[39m:\n\u001b[1;32m--> 341\u001b[0m     \u001b[38;5;28;01mraise\u001b[39;00m \u001b[38;5;167;01mValueError\u001b[39;00m(\n\u001b[0;32m    342\u001b[0m         \u001b[38;5;124m\"\u001b[39m\u001b[38;5;124mMulti-dimensional indexing (e.g. `obj[:, None]`) is no longer \u001b[39m\u001b[38;5;124m\"\u001b[39m\n\u001b[0;32m    343\u001b[0m         \u001b[38;5;124m\"\u001b[39m\u001b[38;5;124msupported. Convert to a numpy array before indexing instead.\u001b[39m\u001b[38;5;124m\"\u001b[39m\n\u001b[0;32m    344\u001b[0m     )\n",
      "\u001b[1;31mValueError\u001b[0m: Multi-dimensional indexing (e.g. `obj[:, None]`) is no longer supported. Convert to a numpy array before indexing instead."
     ]
    }
   ],
   "source": [
    "# prediction Table\n",
    "user_prediction = predict(data_matrix, user_similarity, type='user')\n",
    "item_prediction = predict(data_matrix, item_similarity, type='item')"
   ]
  },
  {
   "cell_type": "code",
   "execution_count": 17,
   "id": "f3b62e69",
   "metadata": {},
   "outputs": [
    {
     "ename": "NameError",
     "evalue": "name 'user_prediction' is not defined",
     "output_type": "error",
     "traceback": [
      "\u001b[1;31m---------------------------------------------------------------------------\u001b[0m",
      "\u001b[1;31mNameError\u001b[0m                                 Traceback (most recent call last)",
      "Cell \u001b[1;32mIn[17], line 1\u001b[0m\n\u001b[1;32m----> 1\u001b[0m user_prediction\n",
      "\u001b[1;31mNameError\u001b[0m: name 'user_prediction' is not defined"
     ]
    }
   ],
   "source": [
    "user_prediction"
   ]
  },
  {
   "cell_type": "code",
   "execution_count": null,
   "id": "3c00c329",
   "metadata": {},
   "outputs": [],
   "source": [
    "# As per User based filtering ,first have to find similarity between the input user and others"
   ]
  },
  {
   "cell_type": "code",
   "execution_count": null,
   "id": "d0908ade",
   "metadata": {},
   "outputs": [],
   "source": [
    "#1. Select input user\n",
    "\n",
    "input_user=34"
   ]
  },
  {
   "cell_type": "code",
   "execution_count": null,
   "id": "936e48d2",
   "metadata": {},
   "outputs": [],
   "source": [
    "#2. Convert the user_sim table into DataFrame\n",
    "\n",
    "user_sim_table=pd.DataFrame(user_similarity)"
   ]
  },
  {
   "cell_type": "code",
   "execution_count": null,
   "id": "86a7ecf5",
   "metadata": {},
   "outputs": [],
   "source": [
    "user_sim_table"
   ]
  },
  {
   "cell_type": "code",
   "execution_count": null,
   "id": "e0a55e44",
   "metadata": {},
   "outputs": [],
   "source": [
    "#3. Find similarity user for 78 using cosine table\n",
    "\n",
    "similar_input_user= user_sim_table[input_user].sort_values(ascending=True).head(5).index\n"
   ]
  },
  {
   "cell_type": "code",
   "execution_count": null,
   "id": "8df4018a",
   "metadata": {},
   "outputs": [],
   "source": [
    "similar_input_user"
   ]
  },
  {
   "cell_type": "code",
   "execution_count": null,
   "id": "5abdee29",
   "metadata": {},
   "outputs": [],
   "source": [
    "#4.Convert in to list\n",
    "\n",
    "similar_user_input=list(similar_input_user)"
   ]
  },
  {
   "cell_type": "code",
   "execution_count": null,
   "id": "f6f44177",
   "metadata": {},
   "outputs": [],
   "source": [
    "#5. Using similar_user_input,can select movie id from ratings table\n",
    "\n",
    "similar_user_movieid_list=[]\n",
    "for sim_user in similar_user_input:\n",
    "    sim=list(ratings[ratings['user_id']==sim_user]['movie_id'])\n",
    "    similar_user_movieid_list.append(sim)"
   ]
  },
  {
   "cell_type": "code",
   "execution_count": null,
   "id": "cb61d7c9",
   "metadata": {},
   "outputs": [],
   "source": [
    "similar_user_movieid_list"
   ]
  },
  {
   "cell_type": "code",
   "execution_count": null,
   "id": "22743748",
   "metadata": {},
   "outputs": [],
   "source": [
    "#6. Convert all the list as single\n",
    "import itertools\n",
    "similar_user_movieid_single_list=list(itertools.chain.from_iterable(similar_user_movieid_list))"
   ]
  },
  {
   "cell_type": "code",
   "execution_count": null,
   "id": "c4013a03",
   "metadata": {},
   "outputs": [],
   "source": [
    "similar_user_movieid_single_list"
   ]
  },
  {
   "cell_type": "code",
   "execution_count": null,
   "id": "ec93cad8",
   "metadata": {},
   "outputs": [],
   "source": [
    "#7. Unique movieid from the list\n",
    "\n",
    "Unique_movieid_similar_user=set(similar_user_movieid_single_list)"
   ]
  },
  {
   "cell_type": "code",
   "execution_count": null,
   "id": "c20f1a5f",
   "metadata": {},
   "outputs": [],
   "source": [
    "len(Unique_movieid_similar_user)"
   ]
  },
  {
   "cell_type": "code",
   "execution_count": null,
   "id": "32e5740e",
   "metadata": {},
   "outputs": [],
   "source": [
    "#8. Input user watched movie_list\n",
    "\n",
    "input_user_watched_movieid=list(ratings[ratings['user_id']==input_user]['movie_id'].values)"
   ]
  },
  {
   "cell_type": "code",
   "execution_count": null,
   "id": "c54d0c4b",
   "metadata": {},
   "outputs": [],
   "source": [
    "input_user_watched_movieid"
   ]
  },
  {
   "cell_type": "code",
   "execution_count": null,
   "id": "1613a275",
   "metadata": {},
   "outputs": [],
   "source": [
    "#9. Create a list which should have recom movieid to the input user\n",
    "\n",
    "recom=[]\n",
    "for per_id in Unique_movieid_similar_user:\n",
    "    if(per_id in input_user_watched_movieid):\n",
    "        pass\n",
    "    else:\n",
    "        recom.append(per_id)"
   ]
  },
  {
   "cell_type": "code",
   "execution_count": null,
   "id": "69ed185f",
   "metadata": {},
   "outputs": [],
   "source": [
    "len(recom)"
   ]
  },
  {
   "cell_type": "code",
   "execution_count": null,
   "id": "68b2efc6",
   "metadata": {},
   "outputs": [],
   "source": [
    "sorted(recom)"
   ]
  },
  {
   "cell_type": "code",
   "execution_count": null,
   "id": "60217328",
   "metadata": {},
   "outputs": [],
   "source": [
    "# Cross Checking \n",
    "sorted(Unique_movieid_similar_user)"
   ]
  },
  {
   "cell_type": "code",
   "execution_count": null,
   "id": "9dede78a",
   "metadata": {},
   "outputs": [],
   "source": [
    "# Cross Checking\n",
    "sorted(input_user_watched_movieid)"
   ]
  },
  {
   "cell_type": "code",
   "execution_count": null,
   "id": "550fcf8b",
   "metadata": {},
   "outputs": [],
   "source": [
    "# Checking the common movie list\n",
    "list(set(Unique_movieiuser_pred_Trans[34]d_similar_user)&set(input_user_watched_movieid))user_pred_Trans[34]"
   ]
  },
  {
   "cell_type": "code",
   "execution_count": null,
   "id": "102a5d22",
   "metadata": {},
   "outputs": [],
   "source": [
    "user_pred=pd.DataFrame(user_prediction)"
   ]
  },
  {
   "cell_type": "code",
   "execution_count": null,
   "id": "bf7211a0",
   "metadata": {},
   "outputs": [],
   "source": [
    "user_pred"
   ]
  },
  {
   "cell_type": "code",
   "execution_count": null,
   "id": "e408f544",
   "metadata": {},
   "outputs": [],
   "source": [
    "user_pred_Trans=user_pred.T"
   ]
  },
  {
   "cell_type": "code",
   "execution_count": null,
   "id": "79a122db",
   "metadata": {},
   "outputs": [],
   "source": [
    "user_pred_Trans[34]"
   ]
  },
  {
   "cell_type": "code",
   "execution_count": null,
   "id": "d9983c83",
   "metadata": {},
   "outputs": [],
   "source": [
    "gg=user_pred_Trans[34]"
   ]
  },
  {
   "cell_type": "code",
   "execution_count": null,
   "id": "66c5afd4",
   "metadata": {},
   "outputs": [],
   "source": [
    "g=pd.DataFrame(gg)"
   ]
  },
  {
   "cell_type": "code",
   "execution_count": null,
   "id": "03acf217",
   "metadata": {},
   "outputs": [],
   "source": [
    "s=g.T"
   ]
  },
  {
   "cell_type": "code",
   "execution_count": null,
   "id": "937afcb7",
   "metadata": {},
   "outputs": [],
   "source": [
    "s[187].values >=0.4"
   ]
  },
  {
   "cell_type": "code",
   "execution_count": null,
   "id": "b551456a",
   "metadata": {},
   "outputs": [],
   "source": [
    "# From recomd list select hightest rated film which would like by the user. Based on User prediction\n",
    "\n",
    "highest_Rated=[]\n",
    "input_user_pre=pd.DataFrame(user_pred_Trans[input_user])\n",
    "input_user_pred=input_user_pre.T\n",
    "for re in recom:\n",
    "    value=input_user_pred[re].values\n",
    "    if(value>=1):\n",
    "        highest_Rated.append(re)\n"
   ]
  },
  {
   "cell_type": "code",
   "execution_count": null,
   "id": "c1854353",
   "metadata": {},
   "outputs": [],
   "source": [
    "len(highest_Rated)"
   ]
  },
  {
   "cell_type": "code",
   "execution_count": null,
   "id": "f69b7253",
   "metadata": {},
   "outputs": [],
   "source": [
    "# Now we give movieid respective movie list\n",
    "\n",
    "\n",
    "i_cols = ['movie id', 'movie title' ,'release date','video release date', 'IMDb URL', 'unknown', 'Action', 'Adventure',\n",
    "'Animation', 'Children\\'s', 'Comedy', 'Crime', 'Documentary', 'Drama', 'Fantasy',\n",
    "'Film-Noir', 'Horror', 'Musical', 'Mystery', 'Romance', 'Sci-Fi', 'Thriller', 'War', 'Western']\n",
    "items = pd.read_csv('ml-100k/u.item', sep='|', names=i_cols,\n",
    "encoding='latin-1')"
   ]
  },
  {
   "cell_type": "code",
   "execution_count": null,
   "id": "799b0aef",
   "metadata": {},
   "outputs": [],
   "source": [
    "#Creating Movie List based on recom movieid\n",
    "movie_title=[]\n",
    "for movieid in highest_Rated:\n",
    "    mov=items[items['movie id']==movieid]['movie title'].values\n",
    "    movie_title.append(mov)\n",
    "        \n",
    "        "
   ]
  },
  {
   "cell_type": "code",
   "execution_count": null,
   "id": "06984491",
   "metadata": {},
   "outputs": [],
   "source": [
    "movie_title[1]"
   ]
  },
  {
   "cell_type": "code",
   "execution_count": null,
   "id": "ad0a3240",
   "metadata": {},
   "outputs": [],
   "source": [
    "#Converting into pure list\n",
    "movie_title_list=[]\n",
    "for m in movie_title:\n",
    "    print(m)\n",
    "    mv=list(m)\n",
    "    movie_title_list.append(mv)"
   ]
  },
  {
   "cell_type": "code",
   "execution_count": null,
   "id": "69ee22cf",
   "metadata": {},
   "outputs": [],
   "source": [
    "#Converting into whole list\n",
    "import itertools\n",
    "Final_Recommend_movie=list(itertools.chain.from_iterable(movie_title_list))"
   ]
  },
  {
   "cell_type": "code",
   "execution_count": null,
   "id": "c4d28bde",
   "metadata": {},
   "outputs": [],
   "source": [
    "Final_Recommend_movie"
   ]
  },
  {
   "cell_type": "code",
   "execution_count": null,
   "id": "3ad570eb",
   "metadata": {},
   "outputs": [],
   "source": [
    "# Checking the common movie list\n",
    "list(set(recom)&set(input_user_watched_movieid))"
   ]
  },
  {
   "cell_type": "code",
   "execution_count": null,
   "id": "ed973d8d",
   "metadata": {},
   "outputs": [],
   "source": [
    "def userbased(input_user,user_similarity,user_predictions,similar_user_count,thres):\n",
    "    #Convert the user_sim table into DataFrame\n",
    "    user_sim_table=pd.DataFrame(user_similarity)\n",
    "    #Find similarity user for 78 using cosine table\n",
    "    similar_input_user= user_sim_table[input_user].sort_values(ascending=True).head(similar_user_count).index\n",
    "    #Convert in to list\n",
    "    similar_user_input=list(similar_input_user) \n",
    "    #Using similar_user_input,can select movie id from ratings table\n",
    "    similar_user_movieid_list=[]\n",
    "    for sim_user in similar_user_input:\n",
    "        sim=list(ratings[ratings['user_id']==sim_user]['movie_id'])\n",
    "        similar_user_movieid_list.append(sim)\n",
    "    #Converting as a whole list\n",
    "    import itertools\n",
    "    similar_user_movieid_single_list=list(itertools.chain.from_iterable(similar_user_movieid_list))\n",
    "    #Unique movieid from the list\n",
    "    Unique_movieid_similar_user=set(similar_user_movieid_single_list)\n",
    "    #Input user watched movie_list\n",
    "    input_user_watched_movieid=list(ratings[ratings['user_id']==input_user]['movie_id'].values)\n",
    "    #Create a list which should have recom movieid to the input user\n",
    "    recom=[]\n",
    "    for per_id in Unique_movieid_similar_user:\n",
    "        if(per_id in input_user_watched_movieid):\n",
    "            pass\n",
    "        else:\n",
    "            recom.append(per_id)\n",
    "    #From recommendation list selecting only hightest rated(predicted) value\n",
    "    highest_Rated=[]\n",
    "    user_pred=pd.DataFrame(user_prediction)\n",
    "    user_pred_Trans=user_pred.T\n",
    "    input_user_pre=pd.DataFrame(user_pred_Trans[input_user])\n",
    "    input_user_pred=input_user_pre.T\n",
    "    for re in recom:\n",
    "        value=input_user_pred[re].values\n",
    "        if(value>=thres):\n",
    "            highest_Rated.append(re)\n",
    "    i_cols = ['movie id', 'movie title' ,'release date','video release date', 'IMDb URL', 'unknown', 'Action', 'Adventure',\n",
    "    'Animation', 'Children\\'s', 'Comedy', 'Crime', 'Documentary', 'Drama', 'Fantasy',\n",
    "    'Film-Noir', 'Horror', 'Musical', 'Mystery', 'Romance', 'Sci-Fi', 'Thriller', 'War', 'Western']\n",
    "    items = pd.read_csv('ml-100k/u.item', sep='|', names=i_cols,encoding='latin-1')\n",
    "    #Creating Movie List based on recom movieid\n",
    "    movie_title=[]\n",
    "    for movieid in highest_Rated:\n",
    "        mov=items[items['movie id']==movieid]['movie title'].values\n",
    "        movie_title.append(mov)\n",
    "    #Converting into pure list\n",
    "    movie_title_list=[]\n",
    "    for m in movie_title:\n",
    "        print(m)\n",
    "        mv=list(m)\n",
    "        movie_title_list.append(mv)\n",
    "    #Converting into whole list\n",
    "    import itertools\n",
    "    Final_Recommend_movie=list(itertools.chain.from_iterable(movie_title_list))\n",
    "    print(\"The common Movie in Recom & User:\",list(set(recom)&set(input_user_watched_movieid)))\n",
    "    return Final_Recommend_movie\n",
    "    "
   ]
  },
  {
   "cell_type": "code",
   "execution_count": null,
   "id": "6e221dd4",
   "metadata": {},
   "outputs": [],
   "source": [
    "#def userbased(input_user,user_similarity,user_predictions,similar_user_count,similar_user_movieid_count,thres):\n",
    "Recommended_movie=userbased(5,user_similarity,user_pred,2,0.8)"
   ]
  },
  {
   "cell_type": "code",
   "execution_count": null,
   "id": "6202f1a9",
   "metadata": {},
   "outputs": [],
   "source": [
    "len(Recommended_movie)"
   ]
  },
  {
   "cell_type": "code",
   "execution_count": null,
   "id": "a6b60334",
   "metadata": {},
   "outputs": [],
   "source": []
  },
  {
   "cell_type": "code",
   "execution_count": null,
   "id": "32f13325",
   "metadata": {},
   "outputs": [],
   "source": []
  }
 ],
 "metadata": {
  "kernelspec": {
   "display_name": "Python 3 (ipykernel)",
   "language": "python",
   "name": "python3"
  },
  "language_info": {
   "codemirror_mode": {
    "name": "ipython",
    "version": 3
   },
   "file_extension": ".py",
   "mimetype": "text/x-python",
   "name": "python",
   "nbconvert_exporter": "python",
   "pygments_lexer": "ipython3",
   "version": "3.11.5"
  }
 },
 "nbformat": 4,
 "nbformat_minor": 5
}
